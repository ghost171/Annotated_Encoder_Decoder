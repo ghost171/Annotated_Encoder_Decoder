{
 "cells": [
  {
   "cell_type": "code",
   "execution_count": 2,
   "metadata": {
    "tags": [
     "outputPrepend"
    ]
   },
   "outputs": [
    {
     "name": "stderr",
     "output_type": "stream",
     "text": [
      "100%|██████████| 3752227/3752227 [03:22<00:00, 18570.07it/s]"
     ]
    },
    {
     "name": "stdout",
     "output_type": "stream",
     "text": [
      "Empty DataFrame\n",
      "Columns: []\n",
      "Index: []\n",
      "count of just sentences 1163858\n",
      "percent 0.3101779290005642\n"
     ]
    },
    {
     "name": "stderr",
     "output_type": "stream",
     "text": [
      "\n"
     ]
    }
   ],
   "source": [
    "import pandas as pd\n",
    "from num2word.normalizer import number_converter\n",
    "import os, sys\n",
    "from tqdm import tqdm\n",
    "\n",
    "with open(os.path.join(sys.path[0], './INTERN_TEXTS/sents.txt'), \"r\") as file:\n",
    "    examples = file.readlines()\n",
    "\n",
    "predicted = []\n",
    "examples_first_1000 = examples\n",
    "remarked_all = 0\n",
    "for x in tqdm(examples_first_1000):\n",
    "    #print(\"TEXT\", x)\n",
    "    predict, remarked = number_converter(x)\n",
    "    remarked_all += remarked\n",
    "    predicted.append(predict)\n",
    "    #print(\"PREDICT\", predict)\n",
    "\n",
    "df = pd.DataFrame()\n",
    "\n",
    "\n",
    "print(df)\n",
    "print(\"count of just sentences\", remarked_all)\n",
    "print(\"percent\", remarked_all / len(predicted))\n",
    "\n"
   ]
  },
  {
   "cell_type": "code",
   "execution_count": 3,
   "metadata": {},
   "outputs": [
    {
     "data": {
      "text/plain": "1163858"
     },
     "execution_count": 3,
     "metadata": {},
     "output_type": "execute_result"
    }
   ],
   "source": [
    "remarked_all"
   ]
  },
  {
   "cell_type": "code",
   "execution_count": 7,
   "metadata": {},
   "outputs": [],
   "source": [
    "df = pd.DataFrame()\n",
    "df['samples'] = examples\n",
    "df['predicted'] = predicted"
   ]
  },
  {
   "cell_type": "code",
   "execution_count": 8,
   "metadata": {},
   "outputs": [
    {
     "name": "stdout",
     "output_type": "stream",
     "text": [
      "                                                   samples  \\\n",
      "0        Әлеуметтік желілерде ЕЦ-166/5 төтенше қауіпсіз...   \n",
      "1        Бұл – фейк, оны Нұр-Сұлтан қаласы бойынша ҚАЖД...   \n",
      "2        Кейбір желі қолданушылары мекеменің алдына қой...   \n",
      "3        Шын мәнінде дәрігерлер колонияға созылмалы аур...   \n",
      "4        «17 наурызда таңғы сағат 06:30 шамасында Нұр-С...   \n",
      "...                                                    ...   \n",
      "3752222  Қазақтар шекара шебіндегі бекіністерге жүйелі ...   \n",
      "3752223  Көтеріліске тағы да Жоламан батыр басшылық етт...   \n",
      "3752224  Жоламан батыр бастаған қозғалыстың отаршылдыққ...   \n",
      "3752225  Көтерілістің әр жерде шашыраңқы жүруі мен оған...   \n",
      "3752226  Солай бола тұрса да ол Кенесары Қасымұлы баста...   \n",
      "\n",
      "                                                 predicted  \n",
      "0        Әлеуметтік желілерде ЕЦ жүз алпыс алты бөлу бе...  \n",
      "1        Бұл   фейк, оны Нұр Сұлтан қаласы бойынша ҚАЖД...  \n",
      "2        Кейбір желі қолданушылары мекеменің алдына қой...  \n",
      "3        Шын мәнінде дәрігерлер колонияға созылмалы аур...  \n",
      "4        «он жетінші наурызда таңғы сағат алты отыз шам...  \n",
      "...                                                    ...  \n",
      "3752222  Қазақтар шекара шебіндегі бекіністерге жүйелі ...  \n",
      "3752223  Көтеріліске тағы да Жоламан батыр басшылық етт...  \n",
      "3752224  Жоламан батыр бастаған қозғалыстың отаршылдыққ...  \n",
      "3752225  Көтерілістің әр жерде шашыраңқы жүруі мен оған...  \n",
      "3752226  Солай бола тұрса да ол Кенесары Қасымұлы баста...  \n",
      "\n",
      "[3752227 rows x 2 columns]\n"
     ]
    }
   ],
   "source": [
    "print(df)"
   ]
  },
  {
   "cell_type": "code",
   "execution_count": 9,
   "metadata": {},
   "outputs": [],
   "source": [
    "compression_opts = dict(method='zip', archive_name='out_final.csv')  \n",
    "\n",
    "df.to_csv('out_final.zip', index=False, compression=compression_opts)"
   ]
  },
  {
   "cell_type": "code",
   "execution_count": null,
   "metadata": {},
   "outputs": [],
   "source": []
  }
 ],
 "metadata": {
  "kernelspec": {
   "display_name": "Python 3.8.5 64-bit ('base': conda)",
   "name": "python385jvsc74a57bd009370de619b8b9149cc7c753872ea6aa5871e135f833321ec46ee8dac5b2b335"
  },
  "language_info": {
   "codemirror_mode": {
    "name": "ipython",
    "version": 3
   },
   "file_extension": ".py",
   "mimetype": "text/x-python",
   "name": "python",
   "nbconvert_exporter": "python",
   "pygments_lexer": "ipython3",
   "version": "3.8.5"
  },
  "orig_nbformat": 2
 },
 "nbformat": 4,
 "nbformat_minor": 2
}